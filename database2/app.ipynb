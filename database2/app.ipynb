{
 "cells": [
  {
   "cell_type": "markdown",
   "metadata": {},
   "source": [
    "### ¿Cómo crear una aplicación de Flask con una base de datos?\n",
    "Escribiremos un archivo muy simple para crear una aplicación de flask que utilice una base de datos. El archivo será el siguiente (y para este ejemplo se guardará bajo el nombre de \"app.py\"):"
   ]
  },
  {
   "cell_type": "code",
   "execution_count": 1,
   "metadata": {},
   "outputs": [
    {
     "ename": "NameError",
     "evalue": "name '__file__' is not defined",
     "output_type": "error",
     "traceback": [
      "\u001b[1;31m---------------------------------------------------------------------------\u001b[0m",
      "\u001b[1;31mNameError\u001b[0m                                 Traceback (most recent call last)",
      "Cell \u001b[1;32mIn[1], line 6\u001b[0m\n\u001b[0;32m      2\u001b[0m \u001b[39mfrom\u001b[39;00m \u001b[39mflask_sqlalchemy\u001b[39;00m \u001b[39mimport\u001b[39;00m SQLAlchemy \n\u001b[0;32m      4\u001b[0m \u001b[39mimport\u001b[39;00m \u001b[39mos\u001b[39;00m\n\u001b[1;32m----> 6\u001b[0m BASE_DIR \u001b[39m=\u001b[39m os\u001b[39m.\u001b[39mpath\u001b[39m.\u001b[39mdirname(\u001b[39m__file__\u001b[39;49m)\n\u001b[0;32m      7\u001b[0m DB_FILE \u001b[39m=\u001b[39m os\u001b[39m.\u001b[39mpath\u001b[39m.\u001b[39mjoin(BASE_DIR, \u001b[39m\"\u001b[39m\u001b[39mdevelopment.sqlite3\u001b[39m\u001b[39m\"\u001b[39m)\n\u001b[0;32m      8\u001b[0m DB_URI \u001b[39m=\u001b[39m \u001b[39m\"\u001b[39m\u001b[39msqlite:///\u001b[39m\u001b[39m\"\u001b[39m \u001b[39m+\u001b[39m DB_FILE\n",
      "\u001b[1;31mNameError\u001b[0m: name '__file__' is not defined"
     ]
    }
   ],
   "source": [
    "from flask import Flask \n",
    "from flask_sqlalchemy import SQLAlchemy \n",
    " \n",
    "import os\n",
    " \n",
    "BASE_DIR = os.path.dirname(__file__)\n",
    "DB_FILE = os.path.join(BASE_DIR, \"development.sqlite3\")\n",
    "DB_URI = \"sqlite:///\" + DB_FILE\n",
    "SECRET_KEY = \"123\"\n",
    " \n",
    "app = Flask(__name__)\n",
    "app.config[\"SQLALCHEMY_TRACK_MODIFICATIONS\"] = False\n",
    "app.config[\"SQLALCHEMY_DATABASE_URI\"] = DB_URI\n",
    "app.config[\"SECRET_KEY\"] = SECRET_KEY\n",
    "db = SQLAlchemy(app)\n",
    " \n",
    "class Log(db.Model):\n",
    "    __tablename__ = \"logs\"\n",
    "    id = db.Column(db.Integer, primary_key=True)\n",
    "    title = db.Column(db.String(100), nullable=False)\n",
    "    content = db.Column(db.Text)  \n",
    " \n",
    "@app.route(\"/\")\n",
    "def index():\n",
    "    return \"Index.\" "
   ]
  },
  {
   "cell_type": "markdown",
   "metadata": {},
   "source": [
    "Es un archivo simple llamado \"app.py\" que contiene las líneas necesarias de código para crear una aplicación de flask que utiliza una base de datos a través de flask_sqlalchemy (SQLAlchemy), y define un modelo \"Log\" para una tabla que se llamará \"logs\" dentro de SQL y tiene tres columnas que son: id (llave primaria númerica autoincrementable), title (cadena necesaria de máximo 100 caracteres),  y content (almacena texto). La base de datos se creará al mismo nivel que nuestro archivo \"app.py\" y su nombre será \"development.sqlite3\". Ahora necesitamos crear esa base de datos y sus tablas para, posteriormente, poder establecer la conexión con nuestra aplicación de Flask."
   ]
  },
  {
   "cell_type": "markdown",
   "metadata": {},
   "source": [
    "### ¿Cómo crear una base de datos utilizando un contexto de aplicación de Flask?\n",
    "Finalmente, crearemos y utilizaremos un contexto de aplicación de Flask para crear nuestra base de datos (flask_sqlalchemy/SQLAlchemy).\n",
    "\n",
    "Hay distintas maneras de lograr nuestro objetivo, la manera más simple es la siguiente:\n",
    "\n",
    "Activar el entorno virtual de python donde se hayan instalado los paquetes de flask y flask_sqlalchemy.\n",
    "Acceder a una shell con un contexto de aplicación de flask, para ello ejecutando el comando: flask shell.\n",
    "Una vez estemos dentro de la sesión interactiva (al haber ejecutado \"flask shell\"), vamos a escribir lo siguiente:\n",
    "\n",
    ">>> db.create_all()\n",
    "\n",
    "Nótese que los signos \">>> \" no deben de escribirse, esos son solo signos que aparecen para indicar que se está dentro de la sesión interactiva de Python con un contexto de aplicación de flask. Para que quede claro, una vez que se haya ejecutado \"flask shell\", dentro de dicha sesión se debe de ejecutar (escribir y presionar la tecla \"Enter\"): \"db.create_all()\".\n",
    "\n",
    "Y listo, ahora podemos verificar que al mismo nivel de nuestro archivo \"app.py\" hay un archivo llamado \"development.sqlite3\" que es nuestra base de datos, y que podemos examinar al ejecutar \"sqlite3 developmente.sqlite3\" (se debe de tener instalado sqlite3) para abrir una sesión interactiva, y entonces dentro ejecutaremos \".schema\" (sí, es necesario añadir el signo \".\" como prefijo antes de \"schema\") para observar el esquema de la base de datos; si se utilizó el archivo de ejemplo entonces debería de haber un esquema para la tabla \"logs\".\n",
    "\n",
    "Y listo, eso es todo. Pero antes de terminar, se debe decir que hay otra manera de lograr exactamente lo mismo, y es la siguiente:\n",
    "\n",
    "Abrir una sesión interactiva de Python, para ello hay que ejecutar: python3.\n",
    "Dentro de la sesión interactiva hay que importar los objetos de app y db.\n",
    "Crear un contexto de aplicación de flask.\n",
    "Crear la base de datos.\n",
    "Los anteriores pasos se verían así:\n",
    "\n",
    "python3\n",
    "\n",
    "Entonces dentro de la sesión interactiva de python, se ejecutará lo siguiente:\n",
    "\n",
    ">>> from app import app, db\n",
    ">>> with app.app_context():\n",
    ">>>    db.create_all()\n",
    ">>> exit()\n",
    " \n",
    "* Nótese que los signos \">>> \" no debe de escribirse, esos son solo signos que aparecen para indicar que se está dentro de la sesión interactiva de Python.\n",
    " \n",
    "Es muy importante notar que la línea de \"db.create_all()\" tiene como prefijo una identación. Dicha identación se puede agregar presionando la tecla <Tab> o colocando espacios (se deberá usar la misma cantidad de espacios en cada identación para mantener la consistencia en los bloques de código, por supuesto, aquí es simple porque solo hacemos una identación en esta sesión interactiva) con la barra espaciadora.\n",
    " \n",
    "Después de eso el resultado debería ser el mismo, que es tener el archivo \"development.sqlite3\" que es nuestra base de datos para nuestra aplicación."
   ]
  }
 ],
 "metadata": {
  "kernelspec": {
   "display_name": "flask_env",
   "language": "python",
   "name": "python3"
  },
  "language_info": {
   "codemirror_mode": {
    "name": "ipython",
    "version": 3
   },
   "file_extension": ".py",
   "mimetype": "text/x-python",
   "name": "python",
   "nbconvert_exporter": "python",
   "pygments_lexer": "ipython3",
   "version": "3.11.4"
  },
  "orig_nbformat": 4
 },
 "nbformat": 4,
 "nbformat_minor": 2
}
